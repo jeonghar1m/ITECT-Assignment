{
  "nbformat": 4,
  "nbformat_minor": 0,
  "metadata": {
    "colab": {
      "name": "3일차 과제.ipynb",
      "provenance": [],
      "authorship_tag": "ABX9TyMGYp/CRLrWYiN6ETyM/+X5",
      "include_colab_link": true
    },
    "kernelspec": {
      "name": "python3",
      "display_name": "Python 3"
    },
    "language_info": {
      "name": "python"
    }
  },
  "cells": [
    {
      "cell_type": "markdown",
      "metadata": {
        "id": "view-in-github",
        "colab_type": "text"
      },
      "source": [
        "<a href=\"https://colab.research.google.com/github/jeonghar1m/ITECT-Assignment/blob/main/2%EC%9D%BC%EC%B0%A8_%EA%B3%BC%EC%A0%9C.ipynb\" target=\"_parent\"><img src=\"https://colab.research.google.com/assets/colab-badge.svg\" alt=\"Open In Colab\"/></a>"
      ]
    },
    {
      "cell_type": "markdown",
      "source": [
        "# 3일차 과제"
      ],
      "metadata": {
        "id": "MKo5z-IR4zvB"
      }
    },
    {
      "cell_type": "markdown",
      "source": [
        "## 실습 1"
      ],
      "metadata": {
        "id": "rjSN3QcOBcKD"
      }
    },
    {
      "cell_type": "code",
      "source": [
        "num = int(input(\"정수 입력: \"))\n",
        "\n",
        "if num > 0:\n",
        "  if num % 2 == 0: print(\"짝수\")\n",
        "  else: print(\"홀수\")\n",
        "else: print(\"음수\")"
      ],
      "metadata": {
        "colab": {
          "base_uri": "https://localhost:8080/"
        },
        "id": "RlGWr3kcBewX",
        "outputId": "2c3a1186-177d-4af2-d9ad-90ce4e931d3a"
      },
      "execution_count": 3,
      "outputs": [
        {
          "output_type": "stream",
          "name": "stdout",
          "text": [
            "정수 입력: 2\n",
            "짝수\n"
          ]
        }
      ]
    },
    {
      "cell_type": "markdown",
      "source": [
        "## 실습 2"
      ],
      "metadata": {
        "id": "BkEnMqtuBG77"
      }
    },
    {
      "cell_type": "code",
      "source": [
        "num1 = int(input(\"첫 번째 정수: \"))\n",
        "num2 = int(input(\"두 번째 정수: \"))\n",
        "num3 = int(input(\"세 번째 정수: \"))\n",
        "\n",
        "max = num1\n",
        "min = num1\n",
        "\n",
        "if max < num2: max = num2\n",
        "if max < num3: max = num3\n",
        "\n",
        "if min > num2: min = num2\n",
        "if min > num3: nin = num3\n",
        "\n",
        "print(\"min: \", min)\n",
        "print(\"max: \", max)"
      ],
      "metadata": {
        "colab": {
          "base_uri": "https://localhost:8080/"
        },
        "id": "VGy3JJXlBI3F",
        "outputId": "dae44c25-39c8-4517-8ce7-4a9ebbc222dc"
      },
      "execution_count": 5,
      "outputs": [
        {
          "output_type": "stream",
          "name": "stdout",
          "text": [
            "첫 번째 정수: 5\n",
            "두 번째 정수: 2\n",
            "세 번째 정수: 3\n",
            "min:  2\n",
            "max:  5\n"
          ]
        }
      ]
    }
  ]
}
