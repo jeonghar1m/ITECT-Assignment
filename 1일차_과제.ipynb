{
  "nbformat": 4,
  "nbformat_minor": 0,
  "metadata": {
    "colab": {
      "name": "1일차 과제.ipynb",
      "provenance": [],
      "toc_visible": true,
      "authorship_tag": "ABX9TyMFbJPfVXFG4luVFhB6YnxG",
      "include_colab_link": true
    },
    "kernelspec": {
      "name": "python3",
      "display_name": "Python 3"
    },
    "language_info": {
      "name": "python"
    }
  },
  "cells": [
    {
      "cell_type": "markdown",
      "metadata": {
        "id": "view-in-github",
        "colab_type": "text"
      },
      "source": [
        "<a href=\"https://colab.research.google.com/github/jeonghar1m/ITECT-Assignment/blob/main/1%EC%9D%BC%EC%B0%A8_%EA%B3%BC%EC%A0%9C.ipynb\" target=\"_parent\"><img src=\"https://colab.research.google.com/assets/colab-badge.svg\" alt=\"Open In Colab\"/></a>"
      ]
    },
    {
      "cell_type": "markdown",
      "source": [
        "# 1일차 과제\n",
        "\n"
      ],
      "metadata": {
        "id": "NVX45_gm-6cJ"
      }
    },
    {
      "cell_type": "markdown",
      "source": [
        "## input() 연습문제"
      ],
      "metadata": {
        "id": "4wJwxQRW_6mW"
      }
    },
    {
      "cell_type": "code",
      "source": [
        "height = float(input(\"키가 몇인가요? \"))\n",
        "height = int(height)\n",
        "weight = float(input(\"몸무게가 몇인가요? \"))\n",
        "print(height + weight)"
      ],
      "metadata": {
        "colab": {
          "base_uri": "https://localhost:8080/"
        },
        "id": "aHjDHuzm_-ND",
        "outputId": "473d63d2-c57b-48f9-bf23-4dc660b4e4aa"
      },
      "execution_count": 3,
      "outputs": [
        {
          "output_type": "stream",
          "name": "stdout",
          "text": [
            "키가 몇인가요? 173.2\n",
            "몸무게가 몇인가요? 69\n",
            "242.0\n"
          ]
        }
      ]
    },
    {
      "cell_type": "markdown",
      "source": [
        "## 산술연산자 연습문제"
      ],
      "metadata": {
        "id": "GQlOZnS6AM1P"
      }
    },
    {
      "cell_type": "code",
      "source": [
        "print(4719824700829 + 9182347091274)\n",
        "print(91238470128974 - 32914807321987)\n",
        "print(1234245 * 123456)\n",
        "print(123455 / 1234)"
      ],
      "metadata": {
        "colab": {
          "base_uri": "https://localhost:8080/"
        },
        "id": "VJ4iJ-66AO28",
        "outputId": "be60f543-1644-4887-83af-931dbf0cb580"
      },
      "execution_count": 4,
      "outputs": [
        {
          "output_type": "stream",
          "name": "stdout",
          "text": [
            "13902171792103\n",
            "58323662806987\n",
            "152374950720\n",
            "100.04457050243111\n"
          ]
        }
      ]
    },
    {
      "cell_type": "code",
      "source": [
        "a = 10.5\n",
        "b = 5\n",
        "\n",
        "print(a + b)\n",
        "print(a - b)\n",
        "print(a * b)\n",
        "print(a / b)"
      ],
      "metadata": {
        "colab": {
          "base_uri": "https://localhost:8080/"
        },
        "id": "d8UM6FOoAhXY",
        "outputId": "32611628-2985-458f-8fc0-54cf334b56c6"
      },
      "execution_count": 5,
      "outputs": [
        {
          "output_type": "stream",
          "name": "stdout",
          "text": [
            "15.5\n",
            "5.5\n",
            "52.5\n",
            "2.1\n"
          ]
        }
      ]
    },
    {
      "cell_type": "code",
      "source": [
        "a = -3\n",
        "b = -5\n",
        "\n",
        "print(a * b)\n",
        "print(b / a)"
      ],
      "metadata": {
        "colab": {
          "base_uri": "https://localhost:8080/"
        },
        "id": "Z91T5TREAzbB",
        "outputId": "32bfd1cb-ef5a-43b9-e4e0-6eea6aed1c02"
      },
      "execution_count": 6,
      "outputs": [
        {
          "output_type": "stream",
          "name": "stdout",
          "text": [
            "15\n",
            "1.6666666666666667\n"
          ]
        }
      ]
    },
    {
      "cell_type": "code",
      "source": [
        "print(\"몫: \", 11711 // 11, \"나머지: \", 11711 % 11)"
      ],
      "metadata": {
        "colab": {
          "base_uri": "https://localhost:8080/"
        },
        "id": "gSZJ2rp2A9FP",
        "outputId": "db23f854-c538-4d94-f546-83714f041770"
      },
      "execution_count": 8,
      "outputs": [
        {
          "output_type": "stream",
          "name": "stdout",
          "text": [
            "몫:  1064 나머지:  7\n"
          ]
        }
      ]
    },
    {
      "cell_type": "code",
      "source": [
        "# x / 19 = 4123 ... 15\n",
        "print(19 * 4123 + 15)"
      ],
      "metadata": {
        "colab": {
          "base_uri": "https://localhost:8080/"
        },
        "id": "kdE64lGZBPw0",
        "outputId": "492d859c-0572-4c17-e967-8e3a351cbbfc"
      },
      "execution_count": 9,
      "outputs": [
        {
          "output_type": "stream",
          "name": "stdout",
          "text": [
            "78352\n"
          ]
        }
      ]
    },
    {
      "cell_type": "code",
      "source": [
        "for i in range(99999, 10000, -1):\n",
        "  if (i % 17 == 0):\n",
        "    print(i)\n",
        "    break"
      ],
      "metadata": {
        "colab": {
          "base_uri": "https://localhost:8080/"
        },
        "id": "sbEfQLUcCora",
        "outputId": "a6165d3d-e40d-4f59-aa77-eb9734d87831"
      },
      "execution_count": 16,
      "outputs": [
        {
          "output_type": "stream",
          "name": "stdout",
          "text": [
            "99994\n"
          ]
        }
      ]
    },
    {
      "cell_type": "code",
      "source": [
        "print(3 ** 7)"
      ],
      "metadata": {
        "colab": {
          "base_uri": "https://localhost:8080/"
        },
        "id": "GfYQwacXFPnR",
        "outputId": "eb87944e-cabc-45b6-ad83-c6a478cfd0b1"
      },
      "execution_count": 17,
      "outputs": [
        {
          "output_type": "stream",
          "name": "stdout",
          "text": [
            "2187\n"
          ]
        }
      ]
    },
    {
      "cell_type": "markdown",
      "source": [
        "## 논리연산자 연습문제"
      ],
      "metadata": {
        "id": "AdcktAS3Ff5-"
      }
    },
    {
      "cell_type": "code",
      "source": [
        "5 == 5"
      ],
      "metadata": {
        "colab": {
          "base_uri": "https://localhost:8080/"
        },
        "id": "7fbrgd0RFsyb",
        "outputId": "38820a4b-a7ca-4d21-ec6a-d4e052837064"
      },
      "execution_count": 18,
      "outputs": [
        {
          "output_type": "execute_result",
          "data": {
            "text/plain": [
              "True"
            ]
          },
          "metadata": {},
          "execution_count": 18
        }
      ]
    },
    {
      "cell_type": "code",
      "source": [
        "8 != 5"
      ],
      "metadata": {
        "colab": {
          "base_uri": "https://localhost:8080/"
        },
        "id": "WtkN-976Fu8v",
        "outputId": "c580d78d-127d-46f9-b852-81e6397e20e8"
      },
      "execution_count": 19,
      "outputs": [
        {
          "output_type": "execute_result",
          "data": {
            "text/plain": [
              "True"
            ]
          },
          "metadata": {},
          "execution_count": 19
        }
      ]
    },
    {
      "cell_type": "markdown",
      "source": [
        "## 문자열연산 연습문제"
      ],
      "metadata": {
        "id": "lguKEaKSGVi6"
      }
    },
    {
      "cell_type": "code",
      "source": [
        "userInput = input(\"문자열을 입력하세요: \")\n",
        "print(userInput * 10)"
      ],
      "metadata": {
        "colab": {
          "base_uri": "https://localhost:8080/"
        },
        "id": "2kL48SfrGYcH",
        "outputId": "fcd2facb-78a6-485d-8c25-fb95c5445d09"
      },
      "execution_count": 22,
      "outputs": [
        {
          "output_type": "stream",
          "name": "stdout",
          "text": [
            "문자열을 입력하세요: 테스트\n",
            "테스트테스트테스트테스트테스트테스트테스트테스트테스트테스트\n"
          ]
        }
      ]
    },
    {
      "cell_type": "code",
      "source": [
        "a = '무궁화'\n",
        "b = '꽃이'\n",
        "c = '피었습니다.'\n",
        "\n",
        "print(a + b + c)"
      ],
      "metadata": {
        "colab": {
          "base_uri": "https://localhost:8080/"
        },
        "id": "JGzEaGpkG4J1",
        "outputId": "80dec339-db2b-4684-cda6-52681523a1cf"
      },
      "execution_count": 23,
      "outputs": [
        {
          "output_type": "stream",
          "name": "stdout",
          "text": [
            "무궁화꽃이피었습니다.\n"
          ]
        }
      ]
    },
    {
      "cell_type": "markdown",
      "source": [
        "## 단순 계산기"
      ],
      "metadata": {
        "id": "1XmkMQPMHIKk"
      }
    },
    {
      "cell_type": "code",
      "source": [
        "a = int(input(\"덧셈 천 번째 숫자는? \"))\n",
        "b = int(input(\"덧셈 두 번째 숫자는? \"))\n",
        "\n",
        "print(\"두 숫자의 합은 \", a + b, \"입니다.\")"
      ],
      "metadata": {
        "colab": {
          "base_uri": "https://localhost:8080/"
        },
        "id": "ePW_iIJ9HJtk",
        "outputId": "10c639f1-1fab-42b3-f31b-abdb4677e091"
      },
      "execution_count": 25,
      "outputs": [
        {
          "output_type": "stream",
          "name": "stdout",
          "text": [
            "덧셈 천 번째 숫자는? 5\n",
            "덧셈 두 번째 숫자는? 8\n",
            "두 숫자의 합은  13 입니다.\n"
          ]
        }
      ]
    },
    {
      "cell_type": "code",
      "source": [
        "a = int(input(\"제수는? \"))\n",
        "b = int(input(\"피제수는? \"))\n",
        "\n",
        "print(\"나눗셈의 몫은 \", a // b, \"나머지는 \", a % b)"
      ],
      "metadata": {
        "colab": {
          "base_uri": "https://localhost:8080/"
        },
        "id": "KAEYDBOLHiil",
        "outputId": "58c4aef9-c693-4ecc-b783-34b5f6e93fce"
      },
      "execution_count": 26,
      "outputs": [
        {
          "output_type": "stream",
          "name": "stdout",
          "text": [
            "제수는? 13\n",
            "피제수는? 5\n",
            "나눗셈의 몫은  2 나머지는  3\n"
          ]
        }
      ]
    },
    {
      "cell_type": "markdown",
      "source": [
        "## 성적 계산 프로그램"
      ],
      "metadata": {
        "id": "I2mPKV7yH1P_"
      }
    },
    {
      "cell_type": "code",
      "source": [
        "name = input(\"이름을 입력하세요: \")\n",
        "korean = int(input(\"국어 성적을 입력하세요: \"))\n",
        "math = int(input(\"수학 성적을 입력하세요: \"))\n",
        "social = int(input(\"사회 성적을 입력하세요: \"))\n",
        "science = int(input(\"과학 성적을 입력하세요: \"))\n",
        "english = int(input(\"영어 성적을 입력하세요: \"))\n",
        "\n",
        "total = korean + math + social + science + english\n",
        "\n",
        "print(name, \"님의 성적은\\n\", \"총합 \", total, \"점, \", \"평균 \", total / 5, \"점입니다.\")"
      ],
      "metadata": {
        "colab": {
          "base_uri": "https://localhost:8080/"
        },
        "id": "m229ndoIH3-N",
        "outputId": "1f63bed3-3183-47c2-c6b4-591157730678"
      },
      "execution_count": 27,
      "outputs": [
        {
          "output_type": "stream",
          "name": "stdout",
          "text": [
            "이름을 입력하세요: 정하림\n",
            "국어 성적을 입력하세요: 95\n",
            "수학 성적을 입력하세요: 98\n",
            "사회 성적을 입력하세요: 84\n",
            "과학 성적을 입력하세요: 90\n",
            "영어 성적을 입력하세요: 79\n",
            "정하림 님의 성적은\n",
            " 총합  446 점,  평균  89.2 점입니다.\n"
          ]
        }
      ]
    },
    {
      "cell_type": "markdown",
      "source": [
        "## 피타고라스 정리"
      ],
      "metadata": {
        "id": "76hR9YxB_jAb"
      }
    },
    {
      "cell_type": "code",
      "execution_count": 1,
      "metadata": {
        "colab": {
          "base_uri": "https://localhost:8080/"
        },
        "id": "-RObEtc_-3gp",
        "outputId": "76e284ee-3b68-4b63-8f04-68062fc2634f"
      },
      "outputs": [
        {
          "output_type": "stream",
          "name": "stdout",
          "text": [
            "첫 번째 직각변의 길이(cm): 15.3\n",
            "두 번째 직각변의 길이(cm): 12.1\n",
            "빗변의 길이는  19.50640920313116 cm입니다.\n"
          ]
        }
      ],
      "source": [
        "a = float(input(\"첫 번째 직각변의 길이(cm): \"))\n",
        "b = float(input(\"두 번째 직각변의 길이(cm): \"))\n",
        "print(\"빗변의 길이는 \", (a ** 2 + b ** 2) ** 0.5, \"cm입니다.\")"
      ]
    },
    {
      "cell_type": "markdown",
      "source": [
        "## 원의 넓이 구하기"
      ],
      "metadata": {
        "id": "Jw-AJiRtJGTt"
      }
    },
    {
      "cell_type": "code",
      "source": [
        "r = int(input(\"원의 반지름을 입력하세요(cm): \"))\n",
        "print(\"원의 둘레는 \", round(2 * 3.14 * r, 2), \"이고 원의 넓이는 \", r ** 2 * 3.14, \"입니다.\")"
      ],
      "metadata": {
        "colab": {
          "base_uri": "https://localhost:8080/"
        },
        "id": "RIRcCpJ2JHmB",
        "outputId": "79d3c264-6060-41bd-9270-afb9e2e8d5e3"
      },
      "execution_count": 29,
      "outputs": [
        {
          "output_type": "stream",
          "name": "stdout",
          "text": [
            "원의 반지름을 입력하세요(cm): 5\n",
            "원의 둘레는  31.4 이고 원의 넓이는  78.5 입니다.\n"
          ]
        }
      ]
    },
    {
      "cell_type": "markdown",
      "source": [
        "## 근의 공식"
      ],
      "metadata": {
        "id": "D5yhCut_JysK"
      }
    },
    {
      "cell_type": "code",
      "source": [
        "print(\"이차방정식 ax^2 + bx + c 해 계산기입니다.\")\n",
        "a = int(input(\"a 값: \"))\n",
        "b = int(input(\"b 값: \"))\n",
        "c = int(input(\"c 값: \"))\n",
        "\n",
        "print(\"이차방정식 \", a, \"x^2 + \", b, \"x + \", c, \"의 해는\")\n",
        "print(-b, \" ± \", (b ** 2 - 4 * a * c) ** 0.5)\n",
        "print(\"------------------\")\n",
        "print(\" \", 2 * a, \" \")"
      ],
      "metadata": {
        "colab": {
          "base_uri": "https://localhost:8080/"
        },
        "id": "bWh0ISeKJ1b1",
        "outputId": "1f62ca8e-d47a-4957-de9f-7661a8e9a2b5"
      },
      "execution_count": 30,
      "outputs": [
        {
          "output_type": "stream",
          "name": "stdout",
          "text": [
            "이차방정식 ax^2 + bx + c 해 계산기입니다.\n",
            "a 값: 3\n",
            "b 값: 4\n",
            "c 값: 1\n",
            "이차방정식  3 x^2 +  4 x +  1 의 해는\n",
            "-4  ±  2.0\n",
            "------------------\n",
            "  6  \n"
          ]
        }
      ]
    }
  ]
}