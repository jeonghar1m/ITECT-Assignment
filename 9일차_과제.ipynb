{
  "nbformat": 4,
  "nbformat_minor": 0,
  "metadata": {
    "kernelspec": {
      "display_name": "Python 3",
      "language": "python",
      "name": "python3"
    },
    "language_info": {
      "codemirror_mode": {
        "name": "ipython",
        "version": 3
      },
      "file_extension": ".py",
      "mimetype": "text/x-python",
      "name": "python",
      "nbconvert_exporter": "python",
      "pygments_lexer": "ipython3",
      "version": "3.8.3"
    },
    "colab": {
      "name": "9일차_과제",
      "provenance": [],
      "collapsed_sections": [],
      "include_colab_link": true
    }
  },
  "cells": [
    {
      "cell_type": "markdown",
      "metadata": {
        "id": "view-in-github",
        "colab_type": "text"
      },
      "source": [
        "<a href=\"https://colab.research.google.com/github/jeonghar1m/ITECT-Assignment/blob/main/9%EC%9D%BC%EC%B0%A8_%EA%B3%BC%EC%A0%9C.ipynb\" target=\"_parent\"><img src=\"https://colab.research.google.com/assets/colab-badge.svg\" alt=\"Open In Colab\"/></a>"
      ]
    },
    {
      "cell_type": "markdown",
      "metadata": {
        "id": "SLfJFb5DuqA8"
      },
      "source": [
        "# 2022. 1. 10"
      ]
    },
    {
      "cell_type": "markdown",
      "metadata": {
        "id": "L5vE_wH-uqBC"
      },
      "source": [
        "# Q1. 강의실 들어온 학생 재정렬하기\n",
        "- 학생 리스트에 새로운 학생이 들어오면, 재정렬하여 이름을 기준으로 오름차순 정렬하여 번호와 이름 출력하기\n",
        "- (조건) 현재 강의실에 있는 학생은 ['전지현', '이병헌', '김태희', '정우성']이다. 질문으로 입장한 학생은 누구인가요?라고 하였을 때, 이름을 입력하고 그 이름을 기존 데이터에 추가하여 이름순으로 정렬하여 번호를 붙여 출력하도록 하시오.\n",
        "\n",
        "- 출력예시\n",
        "\n",
        "강의실에 있는 학생 ['전지현', '이병헌', '김태희', '정우성']\n",
        "\n",
        "입장한 학생은 누구인가요? 문소영\n",
        "\n",
        "['전지현', '이병헌', '김태희', '정우성', '문소영']\n",
        "\n",
        "이름순으로 재정렬....\n",
        "\n",
        "1 김태희\n",
        "\n",
        "2 문소영\n",
        "\n",
        "3 이병헌\n",
        "\n",
        "4 전지현\n",
        "\n",
        "5 정우성"
      ]
    },
    {
      "cell_type": "code",
      "source": [
        "studentList = ['전지현', '이병헌', '김태희', '정우성']\n",
        "print('강의실에 있는 학생 ', studentList)\n",
        "newStudent = input('입장한 학생은 누구인가요? ')\n",
        "studentList.append(newStudent)\n",
        "print(studentList)\n",
        "print('이름순으로 재정렬....')\n",
        "studentList.sort()\n",
        "studentNo = 1\n",
        "for i in studentList:\n",
        "  print(studentNo, i)\n",
        "  studentNo += 1"
      ],
      "metadata": {
        "id": "XY1qFG1JM_t1",
        "colab": {
          "base_uri": "https://localhost:8080/"
        },
        "outputId": "e3c496f0-81a2-4e7e-9be7-5d2d633d82e1"
      },
      "execution_count": 11,
      "outputs": [
        {
          "output_type": "stream",
          "name": "stdout",
          "text": [
            "강의실에 있는 학생  ['전지현', '이병헌', '김태희', '정우성']\n",
            "입장한 학생은 누구인가요? 정하림\n",
            "['전지현', '이병헌', '김태희', '정우성', '정하림']\n",
            "이름순으로 재정렬....\n",
            "1 김태희\n",
            "2 이병헌\n",
            "3 전지현\n",
            "4 정우성\n",
            "5 정하림\n"
          ]
        }
      ]
    }
  ]
}