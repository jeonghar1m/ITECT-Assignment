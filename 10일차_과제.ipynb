{
  "nbformat": 4,
  "nbformat_minor": 0,
  "metadata": {
    "colab": {
      "name": "10일차_과제",
      "provenance": [],
      "collapsed_sections": [],
      "include_colab_link": true
    },
    "kernelspec": {
      "name": "python3",
      "display_name": "Python 3"
    },
    "language_info": {
      "name": "python"
    }
  },
  "cells": [
    {
      "cell_type": "markdown",
      "metadata": {
        "id": "view-in-github",
        "colab_type": "text"
      },
      "source": [
        "<a href=\"https://colab.research.google.com/github/jeonghar1m/ITECT-Assignment/blob/main/10%EC%9D%BC%EC%B0%A8_%EA%B3%BC%EC%A0%9C.ipynb\" target=\"_parent\"><img src=\"https://colab.research.google.com/assets/colab-badge.svg\" alt=\"Open In Colab\"/></a>"
      ]
    },
    {
      "cell_type": "markdown",
      "source": [
        "#2022. 1. 11"
      ],
      "metadata": {
        "id": "ex-ETEkXNTWo"
      }
    },
    {
      "cell_type": "markdown",
      "source": [
        "# Q1. 학생 정보 검색\n",
        "- 3명의 학생 정보를 갖고 있는 dictionary형 변수를 생성하여 관리하는 프로그램을 작성하자. 학번이 Key가 되고, Value로는 이름, 생년월일, 전화번호가 주어진다. Value에 해당하는 내용은 list 자료형을 사용하여 선언한다.\n",
        "- 조건 <학생정보>\n",
        "\n",
        "학번: 20201112\n",
        "\n",
        "이름: 홍익대\n",
        "\n",
        "생년월일: 2000년 5월 8일\n",
        "\n",
        "전화번호: 02-4543-4444\n",
        "\n",
        "--------------------------------------------\n",
        "\n",
        "학번: 20195555\n",
        "\n",
        "이름: 고려대\n",
        "\n",
        "생년월일: 1999년 10월 24일\n",
        "\n",
        "전화번호: 010-7864-9900\n",
        "\n",
        "--------------------------------------------\n",
        "\n",
        "학번: 20201878\n",
        "\n",
        "이름: 서울대\n",
        "\n",
        "생년월일: 2000년 1월 7일\n",
        "\n",
        "전화번호: 010-8856-9092\n",
        "\n",
        "--------------------------------------------\n",
        "\n",
        "위 학생 정보로 dictionary를 생성하고, dictionary에서 \n",
        "Key에 해당하는 학번 20201112를 입력하면 이름이 연세대인 사람의 이름, 생년월일, 전화번호를 출력한다.\n",
        "\n",
        "<출력예시>  \n",
        "학번을 입력하세요: 20201112  \n",
        "<찾았습니다>  \n",
        "이름: 홍익대  \n",
        "생년월일: 2000년 5월 8일  \n",
        "전화번호: 02-4543-4444 \n",
        "\n",
        "학번을 입력하세요: 20221111  \n",
        "없는 정보입니다.\n",
        "\n",
        "학번을 입력하세요: 종료  \n",
        "종료합니다.\n"
      ],
      "metadata": {
        "id": "wa_4ytG5NLmh"
      }
    },
    {
      "cell_type": "code",
      "execution_count": 15,
      "metadata": {
        "id": "EjyzSVZ0NKg_",
        "colab": {
          "base_uri": "https://localhost:8080/"
        },
        "outputId": "8f42f934-a6ac-4dcb-fba1-0f3ab97a8390"
      },
      "outputs": [
        {
          "output_type": "stream",
          "name": "stdout",
          "text": [
            "학번을 입력하세요: 20201112\n",
            "<찾았습니다>\n",
            "학번 :  20201112\n",
            "이름 :  홍익대\n",
            "생년월일 :  2000년 5월 8일\n",
            "전화번호 :  02-4543-4444\n",
            "학번을 입력하세요: 20221111\n",
            "없는 정보입니다.\n",
            "학번을 입력하세요: 종료\n",
            "종료합니다.\n"
          ]
        }
      ],
      "source": [
        "studentDict = [{'학번' : '20201112', '이름' : '홍익대', '생년월일' : '2000년 5월 8일', '전화번호' : '02-4543-4444'}, {'학번' : '20195555', '이름' : '고려대', '생년월일' : '1999년 10월 24일', '전화번호' : '010-7864-9900'}, {'학번' : '20201878', '이름' : '서울대', '생년월일' : '2000년 1월 7일', '전화번호' : '010-8856-9092'}]\n",
        "isFind = False\n",
        "while True:\n",
        "  input_id = input('학번을 입력하세요: ')\n",
        "  if input_id == '종료':\n",
        "    print('종료합니다.')\n",
        "    break\n",
        "  else:\n",
        "    for i in range(0, len(studentDict)):\n",
        "      if (input_id == studentDict[i]['학번']):\n",
        "        print('<찾았습니다>')\n",
        "        for k in studentDict[i].keys():\n",
        "          print(k, ': ', studentDict[i].get(k))\n",
        "        isFind = True\n",
        "        break\n",
        "    if isFind == False: print('없는 정보입니다.')\n",
        "    isFind = False\n",
        "\n",
        "      \n"
      ]
    }
  ]
}